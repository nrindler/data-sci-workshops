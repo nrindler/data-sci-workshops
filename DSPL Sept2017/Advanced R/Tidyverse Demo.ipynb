{
 "cells": [
  {
   "cell_type": "markdown",
   "metadata": {},
   "source": [
    "## Set Up"
   ]
  },
  {
   "cell_type": "markdown",
   "metadata": {},
   "source": [
    "Check working directory:"
   ]
  },
  {
   "cell_type": "code",
   "execution_count": 1,
   "metadata": {},
   "outputs": [
    {
     "data": {
      "text/html": [
       "'C:/Users/nadav.rindler/Documents/DataViz/DS Personalized Learning Sept2017/Advanced R'"
      ],
      "text/latex": [
       "'C:/Users/nadav.rindler/Documents/DataViz/DS Personalized Learning Sept2017/Advanced R'"
      ],
      "text/markdown": [
       "'C:/Users/nadav.rindler/Documents/DataViz/DS Personalized Learning Sept2017/Advanced R'"
      ],
      "text/plain": [
       "[1] \"C:/Users/nadav.rindler/Documents/DataViz/DS Personalized Learning Sept2017/Advanced R\""
      ]
     },
     "metadata": {},
     "output_type": "display_data"
    }
   ],
   "source": [
    "getwd()"
   ]
  },
  {
   "cell_type": "markdown",
   "metadata": {},
   "source": [
    "Load tidyverse set of packages.\n",
    "\n",
    "Tidyverse is a *set* of packages developed by R developer superstar Hadley Wickham. The tidyverse packages are designed to work well together in a coherent manner, replacing in some cases R's built-in functionality. The success of the tidyverse is evident in its rapid adoption by the R community.\n",
    "\n",
    "Tidyverse packages include: broom, **dplyr**, forcats, **ggplot2**, haven, httr, hms, jsonlite, **lubridate**, magrittr, modelr, purrr, readr, **readxl**, stringr, tibble, rvest, tidyr, xml2"
   ]
  },
  {
   "cell_type": "code",
   "execution_count": 2,
   "metadata": {},
   "outputs": [
    {
     "name": "stderr",
     "output_type": "stream",
     "text": [
      "Loading tidyverse: ggplot2\n",
      "Loading tidyverse: tibble\n",
      "Loading tidyverse: tidyr\n",
      "Loading tidyverse: readr\n",
      "Loading tidyverse: purrr\n",
      "Loading tidyverse: dplyr\n",
      "Conflicts with tidy packages ---------------------------------------------------\n",
      "filter(): dplyr, stats\n",
      "lag():    dplyr, stats\n"
     ]
    }
   ],
   "source": [
    "library(tidyverse)"
   ]
  },
  {
   "cell_type": "markdown",
   "metadata": {},
   "source": [
    "Import dengue data set"
   ]
  },
  {
   "cell_type": "code",
   "execution_count": 3,
   "metadata": {
    "collapsed": true
   },
   "outputs": [],
   "source": [
    "dengue_data  <- read.csv(\"R Shiny App/Dengue_Cases_Malaysia_2011.csv\")"
   ]
  },
  {
   "cell_type": "code",
   "execution_count": 4,
   "metadata": {},
   "outputs": [
    {
     "data": {
      "text/html": [
       "<table>\n",
       "<thead><tr><th scope=col>NEGERI</th><th scope=col>Year</th><th scope=col>Minggu.1</th><th scope=col>Minggu.2</th><th scope=col>Minggu.3</th><th scope=col>Minggu.4</th><th scope=col>Minggu.5</th><th scope=col>Minggu.6</th><th scope=col>Minggu.7</th><th scope=col>Minggu.8</th><th scope=col>...</th><th scope=col>Minggu.43</th><th scope=col>Minggu.44</th><th scope=col>Minggu.45</th><th scope=col>Minggu.46</th><th scope=col>Minggu.47</th><th scope=col>Minggu.48</th><th scope=col>Minggu.49</th><th scope=col>Minggu.50</th><th scope=col>Minggu.51</th><th scope=col>Minggu.52</th></tr></thead>\n",
       "<tbody>\n",
       "\t<tr><td>PERLIS        </td><td>2011          </td><td>  2           </td><td>  7           </td><td>  3           </td><td>  4           </td><td>  0           </td><td>  2           </td><td>  1           </td><td>  0           </td><td>...           </td><td>  3           </td><td>  2           </td><td>  1           </td><td>  4           </td><td>  2           </td><td>  1           </td><td>  1           </td><td>  1           </td><td>  3           </td><td>  2           </td></tr>\n",
       "\t<tr><td>KEDAH         </td><td>2011          </td><td> 15           </td><td> 11           </td><td>  9           </td><td> 20           </td><td> 13           </td><td> 13           </td><td>  9           </td><td>  9           </td><td>...           </td><td> 19           </td><td> 14           </td><td>  8           </td><td> 20           </td><td> 11           </td><td> 15           </td><td> 17           </td><td> 19           </td><td> 11           </td><td>  7           </td></tr>\n",
       "\t<tr><td>PULAU PINANG  </td><td>2011          </td><td> 42           </td><td> 46           </td><td> 40           </td><td> 48           </td><td> 24           </td><td> 33           </td><td> 32           </td><td> 35           </td><td>...           </td><td> 10           </td><td> 13           </td><td> 16           </td><td> 20           </td><td> 18           </td><td> 21           </td><td> 26           </td><td> 23           </td><td> 22           </td><td> 24           </td></tr>\n",
       "\t<tr><td>PERAK         </td><td>2011          </td><td> 36           </td><td> 25           </td><td> 40           </td><td> 41           </td><td> 18           </td><td> 31           </td><td> 16           </td><td> 31           </td><td>...           </td><td> 40           </td><td> 30           </td><td> 35           </td><td> 42           </td><td> 50           </td><td> 27           </td><td> 44           </td><td> 62           </td><td> 33           </td><td> 24           </td></tr>\n",
       "\t<tr><td>SELANGOR      </td><td>2011          </td><td>170           </td><td>213           </td><td>173           </td><td>167           </td><td>144           </td><td>137           </td><td>136           </td><td>162           </td><td>...           </td><td>140           </td><td>145           </td><td>150           </td><td>160           </td><td>181           </td><td>163           </td><td>201           </td><td>234           </td><td>194           </td><td>151           </td></tr>\n",
       "\t<tr><td>WPKL/PUTRAJAYA</td><td>2011          </td><td> 36           </td><td> 36           </td><td> 28           </td><td> 32           </td><td> 22           </td><td> 28           </td><td> 39           </td><td> 37           </td><td>...           </td><td> 62           </td><td> 46           </td><td> 48           </td><td> 55           </td><td> 56           </td><td> 32           </td><td> 47           </td><td> 49           </td><td> 39           </td><td> 33           </td></tr>\n",
       "</tbody>\n",
       "</table>\n"
      ],
      "text/latex": [
       "\\begin{tabular}{r|llllllllllllllllllllllllllllllllllllllllllllllllllllll}\n",
       " NEGERI & Year & Minggu.1 & Minggu.2 & Minggu.3 & Minggu.4 & Minggu.5 & Minggu.6 & Minggu.7 & Minggu.8 & ... & Minggu.43 & Minggu.44 & Minggu.45 & Minggu.46 & Minggu.47 & Minggu.48 & Minggu.49 & Minggu.50 & Minggu.51 & Minggu.52\\\\\n",
       "\\hline\n",
       "\t PERLIS         & 2011           &   2            &   7            &   3            &   4            &   0            &   2            &   1            &   0            & ...            &   3            &   2            &   1            &   4            &   2            &   1            &   1            &   1            &   3            &   2           \\\\\n",
       "\t KEDAH          & 2011           &  15            &  11            &   9            &  20            &  13            &  13            &   9            &   9            & ...            &  19            &  14            &   8            &  20            &  11            &  15            &  17            &  19            &  11            &   7           \\\\\n",
       "\t PULAU PINANG   & 2011           &  42            &  46            &  40            &  48            &  24            &  33            &  32            &  35            & ...            &  10            &  13            &  16            &  20            &  18            &  21            &  26            &  23            &  22            &  24           \\\\\n",
       "\t PERAK          & 2011           &  36            &  25            &  40            &  41            &  18            &  31            &  16            &  31            & ...            &  40            &  30            &  35            &  42            &  50            &  27            &  44            &  62            &  33            &  24           \\\\\n",
       "\t SELANGOR       & 2011           & 170            & 213            & 173            & 167            & 144            & 137            & 136            & 162            & ...            & 140            & 145            & 150            & 160            & 181            & 163            & 201            & 234            & 194            & 151           \\\\\n",
       "\t WPKL/PUTRAJAYA & 2011           &  36            &  36            &  28            &  32            &  22            &  28            &  39            &  37            & ...            &  62            &  46            &  48            &  55            &  56            &  32            &  47            &  49            &  39            &  33           \\\\\n",
       "\\end{tabular}\n"
      ],
      "text/markdown": [
       "\n",
       "NEGERI | Year | Minggu.1 | Minggu.2 | Minggu.3 | Minggu.4 | Minggu.5 | Minggu.6 | Minggu.7 | Minggu.8 | ... | Minggu.43 | Minggu.44 | Minggu.45 | Minggu.46 | Minggu.47 | Minggu.48 | Minggu.49 | Minggu.50 | Minggu.51 | Minggu.52 | \n",
       "|---|---|---|---|---|---|\n",
       "| PERLIS         | 2011           |   2            |   7            |   3            |   4            |   0            |   2            |   1            |   0            | ...            |   3            |   2            |   1            |   4            |   2            |   1            |   1            |   1            |   3            |   2            | \n",
       "| KEDAH          | 2011           |  15            |  11            |   9            |  20            |  13            |  13            |   9            |   9            | ...            |  19            |  14            |   8            |  20            |  11            |  15            |  17            |  19            |  11            |   7            | \n",
       "| PULAU PINANG   | 2011           |  42            |  46            |  40            |  48            |  24            |  33            |  32            |  35            | ...            |  10            |  13            |  16            |  20            |  18            |  21            |  26            |  23            |  22            |  24            | \n",
       "| PERAK          | 2011           |  36            |  25            |  40            |  41            |  18            |  31            |  16            |  31            | ...            |  40            |  30            |  35            |  42            |  50            |  27            |  44            |  62            |  33            |  24            | \n",
       "| SELANGOR       | 2011           | 170            | 213            | 173            | 167            | 144            | 137            | 136            | 162            | ...            | 140            | 145            | 150            | 160            | 181            | 163            | 201            | 234            | 194            | 151            | \n",
       "| WPKL/PUTRAJAYA | 2011           |  36            |  36            |  28            |  32            |  22            |  28            |  39            |  37            | ...            |  62            |  46            |  48            |  55            |  56            |  32            |  47            |  49            |  39            |  33            | \n",
       "\n",
       "\n"
      ],
      "text/plain": [
       "  NEGERI         Year Minggu.1 Minggu.2 Minggu.3 Minggu.4 Minggu.5 Minggu.6\n",
       "1 PERLIS         2011   2        7        3        4        0        2     \n",
       "2 KEDAH          2011  15       11        9       20       13       13     \n",
       "3 PULAU PINANG   2011  42       46       40       48       24       33     \n",
       "4 PERAK          2011  36       25       40       41       18       31     \n",
       "5 SELANGOR       2011 170      213      173      167      144      137     \n",
       "6 WPKL/PUTRAJAYA 2011  36       36       28       32       22       28     \n",
       "  Minggu.7 Minggu.8 ... Minggu.43 Minggu.44 Minggu.45 Minggu.46 Minggu.47\n",
       "1   1        0      ...   3         2         1         4         2      \n",
       "2   9        9      ...  19        14         8        20        11      \n",
       "3  32       35      ...  10        13        16        20        18      \n",
       "4  16       31      ...  40        30        35        42        50      \n",
       "5 136      162      ... 140       145       150       160       181      \n",
       "6  39       37      ...  62        46        48        55        56      \n",
       "  Minggu.48 Minggu.49 Minggu.50 Minggu.51 Minggu.52\n",
       "1   1         1         1         3         2      \n",
       "2  15        17        19        11         7      \n",
       "3  21        26        23        22        24      \n",
       "4  27        44        62        33        24      \n",
       "5 163       201       234       194       151      \n",
       "6  32        47        49        39        33      "
      ]
     },
     "metadata": {},
     "output_type": "display_data"
    }
   ],
   "source": [
    "head(dengue_data)"
   ]
  },
  {
   "cell_type": "markdown",
   "metadata": {},
   "source": [
    "## What is Tidy?"
   ]
  },
  {
   "cell_type": "markdown",
   "metadata": {},
   "source": [
    "Tidyverse code has a certain **style** that is easily readable and is composed of sequential steps, where each step applies a function to the data.\n",
    "\n",
    "Function names are descriptive and often \"SQL-like.\""
   ]
  },
  {
   "cell_type": "code",
   "execution_count": 23,
   "metadata": {},
   "outputs": [
    {
     "data": {
      "text/html": [
       "<table>\n",
       "<thead><tr><th scope=col>NEGERI</th><th scope=col>week</th><th scope=col>dengue_cases</th></tr></thead>\n",
       "<tbody>\n",
       "\t<tr><td>PERLIS      </td><td>Minggu.1    </td><td>  2         </td></tr>\n",
       "\t<tr><td>KEDAH       </td><td>Minggu.1    </td><td> 15         </td></tr>\n",
       "\t<tr><td>PULAU PINANG</td><td>Minggu.1    </td><td> 42         </td></tr>\n",
       "\t<tr><td>PERAK       </td><td>Minggu.1    </td><td> 36         </td></tr>\n",
       "\t<tr><td>SELANGOR    </td><td>Minggu.1    </td><td>170         </td></tr>\n",
       "</tbody>\n",
       "</table>\n"
      ],
      "text/latex": [
       "\\begin{tabular}{r|lll}\n",
       " NEGERI & week & dengue\\_cases\\\\\n",
       "\\hline\n",
       "\t PERLIS       & Minggu.1     &   2         \\\\\n",
       "\t KEDAH        & Minggu.1     &  15         \\\\\n",
       "\t PULAU PINANG & Minggu.1     &  42         \\\\\n",
       "\t PERAK        & Minggu.1     &  36         \\\\\n",
       "\t SELANGOR     & Minggu.1     & 170         \\\\\n",
       "\\end{tabular}\n"
      ],
      "text/markdown": [
       "\n",
       "NEGERI | week | dengue_cases | \n",
       "|---|---|---|---|---|\n",
       "| PERLIS       | Minggu.1     |   2          | \n",
       "| KEDAH        | Minggu.1     |  15          | \n",
       "| PULAU PINANG | Minggu.1     |  42          | \n",
       "| PERAK        | Minggu.1     |  36          | \n",
       "| SELANGOR     | Minggu.1     | 170          | \n",
       "\n",
       "\n"
      ],
      "text/plain": [
       "  NEGERI       week     dengue_cases\n",
       "1 PERLIS       Minggu.1   2         \n",
       "2 KEDAH        Minggu.1  15         \n",
       "3 PULAU PINANG Minggu.1  42         \n",
       "4 PERAK        Minggu.1  36         \n",
       "5 SELANGOR     Minggu.1 170         "
      ]
     },
     "metadata": {},
     "output_type": "display_data"
    }
   ],
   "source": [
    "dengue_data %>%\n",
    "  select(-Year)  %>% \n",
    "  gather(key=NEGERI, value=dengue_cases, 2:53)  %>% \n",
    "  setNames(c(\"NEGERI\", \"week\", \"dengue_cases\")) %>% \n",
    "  head(5)"
   ]
  },
  {
   "cell_type": "markdown",
   "metadata": {},
   "source": [
    "Each step is on a separate line, and is separated by a **pipe (%>%)**. The output of the left-hand side is 'piped-in' as the *input* of the right-hand side."
   ]
  },
  {
   "cell_type": "code",
   "execution_count": 6,
   "metadata": {},
   "outputs": [
    {
     "data": {
      "text/plain": [
       "[1] 1"
      ]
     },
     "metadata": {},
     "output_type": "display_data"
    }
   ],
   "source": [
    "1  %>% I()"
   ]
  },
  {
   "cell_type": "code",
   "execution_count": 8,
   "metadata": {},
   "outputs": [
    {
     "data": {
      "text/html": [
       "<ol class=list-inline>\n",
       "\t<li>10</li>\n",
       "\t<li>10</li>\n",
       "\t<li>10</li>\n",
       "\t<li>10</li>\n",
       "\t<li>10</li>\n",
       "</ol>\n"
      ],
      "text/latex": [
       "\\begin{enumerate*}\n",
       "\\item 10\n",
       "\\item 10\n",
       "\\item 10\n",
       "\\item 10\n",
       "\\item 10\n",
       "\\end{enumerate*}\n"
      ],
      "text/markdown": [
       "1. 10\n",
       "2. 10\n",
       "3. 10\n",
       "4. 10\n",
       "5. 10\n",
       "\n",
       "\n"
      ],
      "text/plain": [
       "[1] 10 10 10 10 10"
      ]
     },
     "metadata": {},
     "output_type": "display_data"
    },
    {
     "data": {
      "text/html": [
       "<ol class=list-inline>\n",
       "\t<li>1</li>\n",
       "\t<li>2</li>\n",
       "\t<li>3</li>\n",
       "\t<li>4</li>\n",
       "\t<li>5</li>\n",
       "\t<li>1</li>\n",
       "\t<li>2</li>\n",
       "\t<li>3</li>\n",
       "\t<li>4</li>\n",
       "\t<li>5</li>\n",
       "\t<li>1</li>\n",
       "\t<li>2</li>\n",
       "\t<li>3</li>\n",
       "\t<li>4</li>\n",
       "\t<li>5</li>\n",
       "\t<li>1</li>\n",
       "\t<li>2</li>\n",
       "\t<li>3</li>\n",
       "\t<li>4</li>\n",
       "\t<li>5</li>\n",
       "\t<li>1</li>\n",
       "\t<li>2</li>\n",
       "\t<li>3</li>\n",
       "\t<li>4</li>\n",
       "\t<li>5</li>\n",
       "\t<li>1</li>\n",
       "\t<li>2</li>\n",
       "\t<li>3</li>\n",
       "\t<li>4</li>\n",
       "\t<li>5</li>\n",
       "\t<li>1</li>\n",
       "\t<li>2</li>\n",
       "\t<li>3</li>\n",
       "\t<li>4</li>\n",
       "\t<li>5</li>\n",
       "\t<li>1</li>\n",
       "\t<li>2</li>\n",
       "\t<li>3</li>\n",
       "\t<li>4</li>\n",
       "\t<li>5</li>\n",
       "\t<li>1</li>\n",
       "\t<li>2</li>\n",
       "\t<li>3</li>\n",
       "\t<li>4</li>\n",
       "\t<li>5</li>\n",
       "\t<li>1</li>\n",
       "\t<li>2</li>\n",
       "\t<li>3</li>\n",
       "\t<li>4</li>\n",
       "\t<li>5</li>\n",
       "</ol>\n"
      ],
      "text/latex": [
       "\\begin{enumerate*}\n",
       "\\item 1\n",
       "\\item 2\n",
       "\\item 3\n",
       "\\item 4\n",
       "\\item 5\n",
       "\\item 1\n",
       "\\item 2\n",
       "\\item 3\n",
       "\\item 4\n",
       "\\item 5\n",
       "\\item 1\n",
       "\\item 2\n",
       "\\item 3\n",
       "\\item 4\n",
       "\\item 5\n",
       "\\item 1\n",
       "\\item 2\n",
       "\\item 3\n",
       "\\item 4\n",
       "\\item 5\n",
       "\\item 1\n",
       "\\item 2\n",
       "\\item 3\n",
       "\\item 4\n",
       "\\item 5\n",
       "\\item 1\n",
       "\\item 2\n",
       "\\item 3\n",
       "\\item 4\n",
       "\\item 5\n",
       "\\item 1\n",
       "\\item 2\n",
       "\\item 3\n",
       "\\item 4\n",
       "\\item 5\n",
       "\\item 1\n",
       "\\item 2\n",
       "\\item 3\n",
       "\\item 4\n",
       "\\item 5\n",
       "\\item 1\n",
       "\\item 2\n",
       "\\item 3\n",
       "\\item 4\n",
       "\\item 5\n",
       "\\item 1\n",
       "\\item 2\n",
       "\\item 3\n",
       "\\item 4\n",
       "\\item 5\n",
       "\\end{enumerate*}\n"
      ],
      "text/markdown": [
       "1. 1\n",
       "2. 2\n",
       "3. 3\n",
       "4. 4\n",
       "5. 5\n",
       "6. 1\n",
       "7. 2\n",
       "8. 3\n",
       "9. 4\n",
       "10. 5\n",
       "11. 1\n",
       "12. 2\n",
       "13. 3\n",
       "14. 4\n",
       "15. 5\n",
       "16. 1\n",
       "17. 2\n",
       "18. 3\n",
       "19. 4\n",
       "20. 5\n",
       "21. 1\n",
       "22. 2\n",
       "23. 3\n",
       "24. 4\n",
       "25. 5\n",
       "26. 1\n",
       "27. 2\n",
       "28. 3\n",
       "29. 4\n",
       "30. 5\n",
       "31. 1\n",
       "32. 2\n",
       "33. 3\n",
       "34. 4\n",
       "35. 5\n",
       "36. 1\n",
       "37. 2\n",
       "38. 3\n",
       "39. 4\n",
       "40. 5\n",
       "41. 1\n",
       "42. 2\n",
       "43. 3\n",
       "44. 4\n",
       "45. 5\n",
       "46. 1\n",
       "47. 2\n",
       "48. 3\n",
       "49. 4\n",
       "50. 5\n",
       "\n",
       "\n"
      ],
      "text/plain": [
       " [1] 1 2 3 4 5 1 2 3 4 5 1 2 3 4 5 1 2 3 4 5 1 2 3 4 5 1 2 3 4 5 1 2 3 4 5 1 2 3\n",
       "[39] 4 5 1 2 3 4 5 1 2 3 4 5"
      ]
     },
     "metadata": {},
     "output_type": "display_data"
    }
   ],
   "source": [
    "x  <- 10\n",
    "x  %>% rep(1:., 5)\n",
    "x  %>% rep(1:5, .)"
   ]
  },
  {
   "cell_type": "markdown",
   "metadata": {},
   "source": [
    "Tidy data is also a **principle** for how to organize data. \n",
    "\n",
    "A dataset is a collection of **values**, usually either numbers (if quantitative) or strings (if qualitative). Values are organised in two ways. Every value belongs to a **variable** and an **observation**. A **variable** contains all values that measure the same underlying attribute (like height, temperature, duration) across units. An **observation** contains all values measured on the same unit (like a person, or a day, or a race) across attributes.\n",
    "\n",
    "Tidy data is defined as:\n",
    "* Each variable forms a column.\n",
    "* Each observation forms a row.\n",
    "* Each type of observational unit forms a table.\n",
    "\n",
    "Tidying data often involves pivoting it from wide to long format.\n",
    "\n",
    "Let's look at our dengue data set again:"
   ]
  },
  {
   "cell_type": "code",
   "execution_count": 24,
   "metadata": {},
   "outputs": [
    {
     "data": {
      "text/html": [
       "<table>\n",
       "<thead><tr><th scope=col>NEGERI</th><th scope=col>Year</th><th scope=col>Minggu.1</th><th scope=col>Minggu.2</th><th scope=col>Minggu.3</th><th scope=col>Minggu.4</th><th scope=col>Minggu.5</th><th scope=col>Minggu.6</th><th scope=col>Minggu.7</th><th scope=col>Minggu.8</th><th scope=col>...</th><th scope=col>Minggu.43</th><th scope=col>Minggu.44</th><th scope=col>Minggu.45</th><th scope=col>Minggu.46</th><th scope=col>Minggu.47</th><th scope=col>Minggu.48</th><th scope=col>Minggu.49</th><th scope=col>Minggu.50</th><th scope=col>Minggu.51</th><th scope=col>Minggu.52</th></tr></thead>\n",
       "<tbody>\n",
       "\t<tr><td>PERLIS        </td><td>2011          </td><td>  2           </td><td>  7           </td><td>  3           </td><td>  4           </td><td>  0           </td><td>  2           </td><td>  1           </td><td>  0           </td><td>...           </td><td>  3           </td><td>  2           </td><td>  1           </td><td>  4           </td><td>  2           </td><td>  1           </td><td>  1           </td><td>  1           </td><td>  3           </td><td>  2           </td></tr>\n",
       "\t<tr><td>KEDAH         </td><td>2011          </td><td> 15           </td><td> 11           </td><td>  9           </td><td> 20           </td><td> 13           </td><td> 13           </td><td>  9           </td><td>  9           </td><td>...           </td><td> 19           </td><td> 14           </td><td>  8           </td><td> 20           </td><td> 11           </td><td> 15           </td><td> 17           </td><td> 19           </td><td> 11           </td><td>  7           </td></tr>\n",
       "\t<tr><td>PULAU PINANG  </td><td>2011          </td><td> 42           </td><td> 46           </td><td> 40           </td><td> 48           </td><td> 24           </td><td> 33           </td><td> 32           </td><td> 35           </td><td>...           </td><td> 10           </td><td> 13           </td><td> 16           </td><td> 20           </td><td> 18           </td><td> 21           </td><td> 26           </td><td> 23           </td><td> 22           </td><td> 24           </td></tr>\n",
       "\t<tr><td>PERAK         </td><td>2011          </td><td> 36           </td><td> 25           </td><td> 40           </td><td> 41           </td><td> 18           </td><td> 31           </td><td> 16           </td><td> 31           </td><td>...           </td><td> 40           </td><td> 30           </td><td> 35           </td><td> 42           </td><td> 50           </td><td> 27           </td><td> 44           </td><td> 62           </td><td> 33           </td><td> 24           </td></tr>\n",
       "\t<tr><td>SELANGOR      </td><td>2011          </td><td>170           </td><td>213           </td><td>173           </td><td>167           </td><td>144           </td><td>137           </td><td>136           </td><td>162           </td><td>...           </td><td>140           </td><td>145           </td><td>150           </td><td>160           </td><td>181           </td><td>163           </td><td>201           </td><td>234           </td><td>194           </td><td>151           </td></tr>\n",
       "\t<tr><td>WPKL/PUTRAJAYA</td><td>2011          </td><td> 36           </td><td> 36           </td><td> 28           </td><td> 32           </td><td> 22           </td><td> 28           </td><td> 39           </td><td> 37           </td><td>...           </td><td> 62           </td><td> 46           </td><td> 48           </td><td> 55           </td><td> 56           </td><td> 32           </td><td> 47           </td><td> 49           </td><td> 39           </td><td> 33           </td></tr>\n",
       "</tbody>\n",
       "</table>\n"
      ],
      "text/latex": [
       "\\begin{tabular}{r|llllllllllllllllllllllllllllllllllllllllllllllllllllll}\n",
       " NEGERI & Year & Minggu.1 & Minggu.2 & Minggu.3 & Minggu.4 & Minggu.5 & Minggu.6 & Minggu.7 & Minggu.8 & ... & Minggu.43 & Minggu.44 & Minggu.45 & Minggu.46 & Minggu.47 & Minggu.48 & Minggu.49 & Minggu.50 & Minggu.51 & Minggu.52\\\\\n",
       "\\hline\n",
       "\t PERLIS         & 2011           &   2            &   7            &   3            &   4            &   0            &   2            &   1            &   0            & ...            &   3            &   2            &   1            &   4            &   2            &   1            &   1            &   1            &   3            &   2           \\\\\n",
       "\t KEDAH          & 2011           &  15            &  11            &   9            &  20            &  13            &  13            &   9            &   9            & ...            &  19            &  14            &   8            &  20            &  11            &  15            &  17            &  19            &  11            &   7           \\\\\n",
       "\t PULAU PINANG   & 2011           &  42            &  46            &  40            &  48            &  24            &  33            &  32            &  35            & ...            &  10            &  13            &  16            &  20            &  18            &  21            &  26            &  23            &  22            &  24           \\\\\n",
       "\t PERAK          & 2011           &  36            &  25            &  40            &  41            &  18            &  31            &  16            &  31            & ...            &  40            &  30            &  35            &  42            &  50            &  27            &  44            &  62            &  33            &  24           \\\\\n",
       "\t SELANGOR       & 2011           & 170            & 213            & 173            & 167            & 144            & 137            & 136            & 162            & ...            & 140            & 145            & 150            & 160            & 181            & 163            & 201            & 234            & 194            & 151           \\\\\n",
       "\t WPKL/PUTRAJAYA & 2011           &  36            &  36            &  28            &  32            &  22            &  28            &  39            &  37            & ...            &  62            &  46            &  48            &  55            &  56            &  32            &  47            &  49            &  39            &  33           \\\\\n",
       "\\end{tabular}\n"
      ],
      "text/markdown": [
       "\n",
       "NEGERI | Year | Minggu.1 | Minggu.2 | Minggu.3 | Minggu.4 | Minggu.5 | Minggu.6 | Minggu.7 | Minggu.8 | ... | Minggu.43 | Minggu.44 | Minggu.45 | Minggu.46 | Minggu.47 | Minggu.48 | Minggu.49 | Minggu.50 | Minggu.51 | Minggu.52 | \n",
       "|---|---|---|---|---|---|\n",
       "| PERLIS         | 2011           |   2            |   7            |   3            |   4            |   0            |   2            |   1            |   0            | ...            |   3            |   2            |   1            |   4            |   2            |   1            |   1            |   1            |   3            |   2            | \n",
       "| KEDAH          | 2011           |  15            |  11            |   9            |  20            |  13            |  13            |   9            |   9            | ...            |  19            |  14            |   8            |  20            |  11            |  15            |  17            |  19            |  11            |   7            | \n",
       "| PULAU PINANG   | 2011           |  42            |  46            |  40            |  48            |  24            |  33            |  32            |  35            | ...            |  10            |  13            |  16            |  20            |  18            |  21            |  26            |  23            |  22            |  24            | \n",
       "| PERAK          | 2011           |  36            |  25            |  40            |  41            |  18            |  31            |  16            |  31            | ...            |  40            |  30            |  35            |  42            |  50            |  27            |  44            |  62            |  33            |  24            | \n",
       "| SELANGOR       | 2011           | 170            | 213            | 173            | 167            | 144            | 137            | 136            | 162            | ...            | 140            | 145            | 150            | 160            | 181            | 163            | 201            | 234            | 194            | 151            | \n",
       "| WPKL/PUTRAJAYA | 2011           |  36            |  36            |  28            |  32            |  22            |  28            |  39            |  37            | ...            |  62            |  46            |  48            |  55            |  56            |  32            |  47            |  49            |  39            |  33            | \n",
       "\n",
       "\n"
      ],
      "text/plain": [
       "  NEGERI         Year Minggu.1 Minggu.2 Minggu.3 Minggu.4 Minggu.5 Minggu.6\n",
       "1 PERLIS         2011   2        7        3        4        0        2     \n",
       "2 KEDAH          2011  15       11        9       20       13       13     \n",
       "3 PULAU PINANG   2011  42       46       40       48       24       33     \n",
       "4 PERAK          2011  36       25       40       41       18       31     \n",
       "5 SELANGOR       2011 170      213      173      167      144      137     \n",
       "6 WPKL/PUTRAJAYA 2011  36       36       28       32       22       28     \n",
       "  Minggu.7 Minggu.8 ... Minggu.43 Minggu.44 Minggu.45 Minggu.46 Minggu.47\n",
       "1   1        0      ...   3         2         1         4         2      \n",
       "2   9        9      ...  19        14         8        20        11      \n",
       "3  32       35      ...  10        13        16        20        18      \n",
       "4  16       31      ...  40        30        35        42        50      \n",
       "5 136      162      ... 140       145       150       160       181      \n",
       "6  39       37      ...  62        46        48        55        56      \n",
       "  Minggu.48 Minggu.49 Minggu.50 Minggu.51 Minggu.52\n",
       "1   1         1         1         3         2      \n",
       "2  15        17        19        11         7      \n",
       "3  21        26        23        22        24      \n",
       "4  27        44        62        33        24      \n",
       "5 163       201       234       194       151      \n",
       "6  32        47        49        39        33      "
      ]
     },
     "metadata": {},
     "output_type": "display_data"
    }
   ],
   "source": [
    "head(dengue_data)"
   ]
  },
  {
   "cell_type": "markdown",
   "metadata": {},
   "source": [
    "What are our variables? Which values do they take? How many observations do we have?\n",
    "\n",
    "Why is this data not tidy?\n",
    "\n",
    "Let's tidy this data:"
   ]
  },
  {
   "cell_type": "code",
   "execution_count": 25,
   "metadata": {},
   "outputs": [
    {
     "data": {
      "text/html": [
       "<table>\n",
       "<thead><tr><th scope=col>NEGERI</th><th scope=col>week</th><th scope=col>dengue_cases</th></tr></thead>\n",
       "<tbody>\n",
       "\t<tr><td>PERLIS      </td><td>Minggu.1    </td><td>  2         </td></tr>\n",
       "\t<tr><td>KEDAH       </td><td>Minggu.1    </td><td> 15         </td></tr>\n",
       "\t<tr><td>PULAU PINANG</td><td>Minggu.1    </td><td> 42         </td></tr>\n",
       "\t<tr><td>PERAK       </td><td>Minggu.1    </td><td> 36         </td></tr>\n",
       "\t<tr><td>SELANGOR    </td><td>Minggu.1    </td><td>170         </td></tr>\n",
       "</tbody>\n",
       "</table>\n"
      ],
      "text/latex": [
       "\\begin{tabular}{r|lll}\n",
       " NEGERI & week & dengue\\_cases\\\\\n",
       "\\hline\n",
       "\t PERLIS       & Minggu.1     &   2         \\\\\n",
       "\t KEDAH        & Minggu.1     &  15         \\\\\n",
       "\t PULAU PINANG & Minggu.1     &  42         \\\\\n",
       "\t PERAK        & Minggu.1     &  36         \\\\\n",
       "\t SELANGOR     & Minggu.1     & 170         \\\\\n",
       "\\end{tabular}\n"
      ],
      "text/markdown": [
       "\n",
       "NEGERI | week | dengue_cases | \n",
       "|---|---|---|---|---|\n",
       "| PERLIS       | Minggu.1     |   2          | \n",
       "| KEDAH        | Minggu.1     |  15          | \n",
       "| PULAU PINANG | Minggu.1     |  42          | \n",
       "| PERAK        | Minggu.1     |  36          | \n",
       "| SELANGOR     | Minggu.1     | 170          | \n",
       "\n",
       "\n"
      ],
      "text/plain": [
       "  NEGERI       week     dengue_cases\n",
       "1 PERLIS       Minggu.1   2         \n",
       "2 KEDAH        Minggu.1  15         \n",
       "3 PULAU PINANG Minggu.1  42         \n",
       "4 PERAK        Minggu.1  36         \n",
       "5 SELANGOR     Minggu.1 170         "
      ]
     },
     "metadata": {},
     "output_type": "display_data"
    }
   ],
   "source": [
    "dengue_data %>%\n",
    "  select(-Year)  %>% \n",
    "  gather(key=NEGERI, value=dengue_cases, 2:53)  %>% \n",
    "  setNames(c(\"NEGERI\", \"week\", \"dengue_cases\")) %>% \n",
    "  head(5)"
   ]
  },
  {
   "cell_type": "markdown",
   "metadata": {},
   "source": [
    "## Common types of messy data"
   ]
  },
  {
   "cell_type": "markdown",
   "metadata": {},
   "source": [
    "* Column headers are values, not variable names.\n",
    "* Multiple variables are stored in one column.\n",
    "* Variables are stored in both rows and columns.\n",
    "* Multiple types of observational units are stored in the same table.\n",
    "* A single observational unit is stored in multiple tables.\n",
    "\n",
    "Which of these do we observe in the Dengue data set?"
   ]
  },
  {
   "cell_type": "markdown",
   "metadata": {},
   "source": [
    "## Common Functions"
   ]
  },
  {
   "cell_type": "markdown",
   "metadata": {},
   "source": [
    "The package for tidying data is **tidyr**. With it you can:\n",
    "* **gather()** columns up into rows (stack, melt, unpivot)\n",
    "* **spread()** rows out over columns (unstack, cast, pivot)\n",
    "* **separate()** one column into many\n",
    "* **unite()** many columns into one\n",
    "* **fill()** and drop_na() values\n",
    "* And more!\n",
    "\n",
    "The package for manipulating data is **dplyr**. dplyr functions include:\n",
    "* **filter()** to select rows based on [condition]\n",
    "* **arrange()** to reorder values\n",
    "* **select()** and rename() columns by name\n",
    "* **mutate()** to add new variables that are functions of existing variables \n",
    "* **summarise()** to condense multiple values into a single value\n",
    "* **group_by()** to group rows, allows you to apply functions \"by group\" \n",
    "* **left_join()** for SQL-like joins"
   ]
  },
  {
   "cell_type": "markdown",
   "metadata": {},
   "source": [
    "## Resources"
   ]
  },
  {
   "cell_type": "markdown",
   "metadata": {},
   "source": [
    "[Tidy data](https://cran.r-project.org/web/packages/tidyr/vignettes/tidy-data.html)\n",
    "\n",
    "[Dplyr](https://cran.r-project.org/web/packages/dplyr/vignettes/dplyr.html)"
   ]
  }
 ],
 "metadata": {
  "kernelspec": {
   "display_name": "R",
   "language": "R",
   "name": "ir"
  },
  "language_info": {
   "codemirror_mode": "r",
   "file_extension": ".r",
   "mimetype": "text/x-r-source",
   "name": "R",
   "pygments_lexer": "r",
   "version": "3.2.5"
  }
 },
 "nbformat": 4,
 "nbformat_minor": 2
}
